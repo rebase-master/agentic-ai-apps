{
 "cells": [
  {
   "cell_type": "code",
   "execution_count": null,
   "id": "d6029b34-c202-4921-aa41-70441f98d84b",
   "metadata": {},
   "outputs": [],
   "source": [
    "# Install dependencies\n",
    "#Remember to execute this before running any of the exercises\n",
    "!pip install tenacity==9.0.0\n",
    "!pip install langchain==0.3.12\n",
    "!pip install llama-index-llms-openai==0.1.27\n",
    "!pip install langchain-openai==0.2.12\n",
    "!pip install langchain_community==0.3.12\n",
    "!pip install langgraph==0.2.59\n",
    "!pip install pysqlite3-binary==0.5.4\n",
    "!pip install langchain_chroma==0.1.4\n",
    "!pip install pandas==2.2.3\n",
    "!pip install pypdf==5.1.0\n",
    "!pip install nbformat==5.10.4"
   ]
  }
 ],
 "metadata": {
  "kernelspec": {
   "display_name": "Python 3 (ipykernel)",
   "language": "python",
   "name": "python3"
  },
  "language_info": {
   "codemirror_mode": {
    "name": "ipython",
    "version": 3
   },
   "file_extension": ".py",
   "mimetype": "text/x-python",
   "name": "python",
   "nbconvert_exporter": "python",
   "pygments_lexer": "ipython3",
   "version": "3.13.7"
  }
 },
 "nbformat": 4,
 "nbformat_minor": 5
}
